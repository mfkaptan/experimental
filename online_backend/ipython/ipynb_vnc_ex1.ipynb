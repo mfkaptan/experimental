{
 "metadata": {
  "name": "",
  "signature": "sha256:f5af7be3b4922ef0e05972f8c6017288da0bc6e4003159095cb141913693dad8"
 },
 "nbformat": 3,
 "nbformat_minor": 0,
 "worksheets": [
  {
   "cells": [
    {
     "cell_type": "code",
     "collapsed": false,
     "input": [
      "from static import base"
     ],
     "language": "python",
     "metadata": {},
     "outputs": []
    },
    {
     "cell_type": "code",
     "collapsed": false,
     "input": [
      "import numpy as np\n",
      "\n",
      "from vispy import app, use\n",
      "from vispy.gloo import gl"
     ],
     "language": "python",
     "metadata": {},
     "outputs": []
    },
    {
     "cell_type": "code",
     "collapsed": false,
     "input": [
      "use('ipynb_vnc')"
     ],
     "language": "python",
     "metadata": {},
     "outputs": []
    },
    {
     "cell_type": "code",
     "collapsed": false,
     "input": [
      "class Vispynb(app.Canvas):\n",
      "    def __init__(self, *args, **kwargs):\n",
      "        app.Canvas.__init__(self, *args, **kwargs)\n",
      "        self._backend._vispy_warmup()\n",
      "        \n",
      "    def on_draw(self, event):\n",
      "        gl.glClear(gl.GL_COLOR_BUFFER_BIT)\n",
      "        \n",
      "    def on_mouse_press(self, event):\n",
      "        r, g, b = np.random.rand(3)\n",
      "        gl.glClearColor(r, g, b, 1)\n",
      "        self.update()\n",
      "        self.app.process_events()\n",
      "        \n",
      "    def on_mouse_release(self, event):\n",
      "        print event.pos, event.modifiers\n",
      "        \n",
      "    #def on_mouse_move(self, event):\n",
      "        #print event.pos\n",
      "        \n",
      "    #def on_mouse_wheel(self, event):\n",
      "        # Isn't working yet\n",
      "        #print event.delta\n",
      "        \n",
      "    def on_key_press(self, event):\n",
      "        print event.key, event.modifiers\n",
      "        \n",
      "    #def on_key_release(self, event):\n",
      "        #print event.key, event.modifiers"
     ],
     "language": "python",
     "metadata": {},
     "outputs": []
    },
    {
     "cell_type": "code",
     "collapsed": false,
     "input": [
      "c = Vispynb()  # Click on empty canvas"
     ],
     "language": "python",
     "metadata": {},
     "outputs": []
    },
    {
     "cell_type": "code",
     "collapsed": false,
     "input": [
      "c.close()"
     ],
     "language": "python",
     "metadata": {},
     "outputs": []
    }
   ],
   "metadata": {}
  }
 ]
}